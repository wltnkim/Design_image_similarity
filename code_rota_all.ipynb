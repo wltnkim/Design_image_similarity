version https://git-lfs.github.com/spec/v1
oid sha256:a57bb7ddf443b75727476b206c092dc06c1c3896e765105021415e43b8ef6045
size 155470388
